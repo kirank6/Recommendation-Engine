{
 "cells": [
  {
   "cell_type": "code",
   "execution_count": 1,
   "metadata": {},
   "outputs": [],
   "source": [
    "import json\n",
    "import pandas as pd \n",
    "import matplotlib.pyplot as plt\n",
    "from matplotlib.pyplot import figure\n",
    "from tqdm import tqdm\n",
    "import re\n",
    "import networkx as nx\n",
    "from collections import Counter\n",
    "import time\n",
    "# Ignore matplotlib warnings\n",
    "import warnings\n",
    "warnings.filterwarnings('ignore')"
   ]
  },
  {
   "cell_type": "code",
   "execution_count": 2,
   "metadata": {},
   "outputs": [],
   "source": [
    "# read the train.json file as data\n",
    "j_file = open('train.json',)\n",
    "train_data = json.load(j_file)\n",
    "#train_data"
   ]
  },
  {
   "cell_type": "code",
   "execution_count": 3,
   "metadata": {
    "scrolled": true
   },
   "outputs": [
    {
     "data": {
      "text/html": [
       "<div>\n",
       "<style scoped>\n",
       "    .dataframe tbody tr th:only-of-type {\n",
       "        vertical-align: middle;\n",
       "    }\n",
       "\n",
       "    .dataframe tbody tr th {\n",
       "        vertical-align: top;\n",
       "    }\n",
       "\n",
       "    .dataframe thead th {\n",
       "        text-align: right;\n",
       "    }\n",
       "</style>\n",
       "<table border=\"1\" class=\"dataframe\">\n",
       "  <thead>\n",
       "    <tr style=\"text-align: right;\">\n",
       "      <th></th>\n",
       "      <th>cuisine</th>\n",
       "      <th>ingredients</th>\n",
       "    </tr>\n",
       "    <tr>\n",
       "      <th>id</th>\n",
       "      <th></th>\n",
       "      <th></th>\n",
       "    </tr>\n",
       "  </thead>\n",
       "  <tbody>\n",
       "    <tr>\n",
       "      <th>10259</th>\n",
       "      <td>greek</td>\n",
       "      <td>[romaine lettuce, black olives, grape tomatoes...</td>\n",
       "    </tr>\n",
       "    <tr>\n",
       "      <th>25693</th>\n",
       "      <td>southern_us</td>\n",
       "      <td>[plain flour, ground pepper, salt, tomatoes, g...</td>\n",
       "    </tr>\n",
       "    <tr>\n",
       "      <th>20130</th>\n",
       "      <td>filipino</td>\n",
       "      <td>[eggs, pepper, salt, mayonaise, cooking oil, g...</td>\n",
       "    </tr>\n",
       "    <tr>\n",
       "      <th>22213</th>\n",
       "      <td>indian</td>\n",
       "      <td>[water, vegetable oil, wheat, salt]</td>\n",
       "    </tr>\n",
       "    <tr>\n",
       "      <th>13162</th>\n",
       "      <td>indian</td>\n",
       "      <td>[black pepper, shallots, cornflour, cayenne pe...</td>\n",
       "    </tr>\n",
       "  </tbody>\n",
       "</table>\n",
       "</div>"
      ],
      "text/plain": [
       "           cuisine                                        ingredients\n",
       "id                                                                   \n",
       "10259        greek  [romaine lettuce, black olives, grape tomatoes...\n",
       "25693  southern_us  [plain flour, ground pepper, salt, tomatoes, g...\n",
       "20130     filipino  [eggs, pepper, salt, mayonaise, cooking oil, g...\n",
       "22213       indian                [water, vegetable oil, wheat, salt]\n",
       "13162       indian  [black pepper, shallots, cornflour, cayenne pe..."
      ]
     },
     "execution_count": 3,
     "metadata": {},
     "output_type": "execute_result"
    }
   ],
   "source": [
    "# read in the data from the dictionary into pandas dataframe in one line of code\n",
    "# set index to the id column \n",
    "df_train = pd.DataFrame.from_dict(train_data)\n",
    "df_train = df_train.set_index('id')\n",
    "df_train.head()"
   ]
  },
  {
   "cell_type": "code",
   "execution_count": 4,
   "metadata": {},
   "outputs": [],
   "source": [
    "#List of all ingredients: list of lists\n",
    "nested_list_ings = list(df_train.ingredients)"
   ]
  },
  {
   "cell_type": "code",
   "execution_count": 5,
   "metadata": {},
   "outputs": [],
   "source": [
    "# convert a list of lists to one list \n",
    "flat_list_ings =[item for sublist in nested_list_ings for item in sublist]"
   ]
  },
  {
   "cell_type": "code",
   "execution_count": 6,
   "metadata": {},
   "outputs": [
    {
     "data": {
      "text/plain": [
       "428275"
      ]
     },
     "execution_count": 6,
     "metadata": {},
     "output_type": "execute_result"
    }
   ],
   "source": [
    "#len(flat_list_ings)"
   ]
  },
  {
   "cell_type": "code",
   "execution_count": 7,
   "metadata": {},
   "outputs": [
    {
     "data": {
      "text/plain": [
       "85323"
      ]
     },
     "execution_count": 7,
     "metadata": {},
     "output_type": "execute_result"
    }
   ],
   "source": [
    "# stop word search\n",
    "stop_words_all = [w for w in flat_list_ings if re.search(r'\\b ?salt|pepper|sauce|water|seasoning|powder?\\b', w)]\n",
    "#len(stop_words_all)"
   ]
  },
  {
   "cell_type": "code",
   "execution_count": 8,
   "metadata": {},
   "outputs": [],
   "source": [
    "#convert list to set \n",
    "stop_words_set = set(stop_words_all)"
   ]
  },
  {
   "cell_type": "code",
   "execution_count": 9,
   "metadata": {},
   "outputs": [],
   "source": [
    "#add new column which do not contain stop words\n",
    "df_train['ingredients_nostopw'] = df_train['ingredients'].apply(lambda x : list(set(x)-stop_words_set))"
   ]
  },
  {
   "cell_type": "code",
   "execution_count": 10,
   "metadata": {},
   "outputs": [
    {
     "data": {
      "text/plain": [
       "(39774, 3)"
      ]
     },
     "execution_count": 10,
     "metadata": {},
     "output_type": "execute_result"
    }
   ],
   "source": [
    "#df_train.shape"
   ]
  },
  {
   "cell_type": "code",
   "execution_count": 11,
   "metadata": {},
   "outputs": [
    {
     "data": {
      "text/html": [
       "<div>\n",
       "<style scoped>\n",
       "    .dataframe tbody tr th:only-of-type {\n",
       "        vertical-align: middle;\n",
       "    }\n",
       "\n",
       "    .dataframe tbody tr th {\n",
       "        vertical-align: top;\n",
       "    }\n",
       "\n",
       "    .dataframe thead th {\n",
       "        text-align: right;\n",
       "    }\n",
       "</style>\n",
       "<table border=\"1\" class=\"dataframe\">\n",
       "  <thead>\n",
       "    <tr style=\"text-align: right;\">\n",
       "      <th></th>\n",
       "      <th>cuisine</th>\n",
       "      <th>ingredients</th>\n",
       "      <th>ingredients_nostopw</th>\n",
       "    </tr>\n",
       "    <tr>\n",
       "      <th>id</th>\n",
       "      <th></th>\n",
       "      <th></th>\n",
       "      <th></th>\n",
       "    </tr>\n",
       "  </thead>\n",
       "  <tbody>\n",
       "    <tr>\n",
       "      <th>10259</th>\n",
       "      <td>greek</td>\n",
       "      <td>[romaine lettuce, black olives, grape tomatoes...</td>\n",
       "      <td>[black olives, garbanzo beans, garlic, romaine...</td>\n",
       "    </tr>\n",
       "    <tr>\n",
       "      <th>25693</th>\n",
       "      <td>southern_us</td>\n",
       "      <td>[plain flour, ground pepper, salt, tomatoes, g...</td>\n",
       "      <td>[eggs, yellow corn meal, green tomatoes, thyme...</td>\n",
       "    </tr>\n",
       "    <tr>\n",
       "      <th>20130</th>\n",
       "      <td>filipino</td>\n",
       "      <td>[eggs, pepper, salt, mayonaise, cooking oil, g...</td>\n",
       "      <td>[eggs, yellow onion, cooking oil, grilled chic...</td>\n",
       "    </tr>\n",
       "    <tr>\n",
       "      <th>22213</th>\n",
       "      <td>indian</td>\n",
       "      <td>[water, vegetable oil, wheat, salt]</td>\n",
       "      <td>[vegetable oil, wheat]</td>\n",
       "    </tr>\n",
       "    <tr>\n",
       "      <th>13162</th>\n",
       "      <td>indian</td>\n",
       "      <td>[black pepper, shallots, cornflour, cayenne pe...</td>\n",
       "      <td>[onions, ground cumin, natural yogurt, boneles...</td>\n",
       "    </tr>\n",
       "  </tbody>\n",
       "</table>\n",
       "</div>"
      ],
      "text/plain": [
       "           cuisine                                        ingredients  \\\n",
       "id                                                                      \n",
       "10259        greek  [romaine lettuce, black olives, grape tomatoes...   \n",
       "25693  southern_us  [plain flour, ground pepper, salt, tomatoes, g...   \n",
       "20130     filipino  [eggs, pepper, salt, mayonaise, cooking oil, g...   \n",
       "22213       indian                [water, vegetable oil, wheat, salt]   \n",
       "13162       indian  [black pepper, shallots, cornflour, cayenne pe...   \n",
       "\n",
       "                                     ingredients_nostopw  \n",
       "id                                                        \n",
       "10259  [black olives, garbanzo beans, garlic, romaine...  \n",
       "25693  [eggs, yellow corn meal, green tomatoes, thyme...  \n",
       "20130  [eggs, yellow onion, cooking oil, grilled chic...  \n",
       "22213                             [vegetable oil, wheat]  \n",
       "13162  [onions, ground cumin, natural yogurt, boneles...  "
      ]
     },
     "execution_count": 11,
     "metadata": {},
     "output_type": "execute_result"
    }
   ],
   "source": [
    "#df_train.head()"
   ]
  },
  {
   "cell_type": "code",
   "execution_count": 12,
   "metadata": {},
   "outputs": [],
   "source": [
    "#new dataframe with removing list with single items on ingredients_nostopw column\n",
    "df_train_ext1 = df_train[df_train['ingredients_nostopw'].apply(lambda x: len(x) > 1)]"
   ]
  },
  {
   "cell_type": "code",
   "execution_count": 13,
   "metadata": {},
   "outputs": [
    {
     "data": {
      "text/plain": [
       "(39633, 3)"
      ]
     },
     "execution_count": 13,
     "metadata": {},
     "output_type": "execute_result"
    }
   ],
   "source": [
    "df_train_ext1.shape"
   ]
  },
  {
   "cell_type": "code",
   "execution_count": 14,
   "metadata": {},
   "outputs": [],
   "source": [
    "#start = time.time()\n",
    "# from the list of ingredients in a column in given dataframe, this piece will\n",
    "# return a dictionary of tuples and their weight depending on their presence in a given cuisine.\n",
    "dic_ings = {}\n",
    "for i in range(len(df_train_ext1)):\n",
    "    ing_rows = df_train_ext1['ingredients_nostopw'].iloc[i]\n",
    "    for ing in ing_rows:\n",
    "        for ing2 in ing_rows:\n",
    "            if ing != ing2:\n",
    "                tup_ings = (ing,ing2)\n",
    "                if tup_ings in dic_ings.keys():\n",
    "                    dic_ings[tup_ings] += 1\n",
    "                else:\n",
    "                    dic_ings[tup_ings]  = 1\n",
    "#print(f'{time.time()-start} seconds')"
   ]
  },
  {
   "cell_type": "code",
   "execution_count": 15,
   "metadata": {},
   "outputs": [
    {
     "data": {
      "text/plain": [
       "{('black olives', 'garbanzo beans'): 2,\n",
       " ('black olives', 'garlic'): 55,\n",
       " ('black olives', 'romaine lettuce'): 7,\n",
       " ('black olives', 'grape tomatoes'): 4,\n",
       " ('black olives', 'purple onion'): 34,\n",
       " ('black olives', 'feta cheese crumbles'): 12,\n",
       " ('garbanzo beans', 'black olives'): 2,\n",
       " ('garbanzo beans', 'garlic'): 54,\n",
       " ('garbanzo beans', 'romaine lettuce'): 5,\n",
       " ('garbanzo beans', 'grape tomatoes'): 2,\n",
       " ('garbanzo beans', 'purple onion'): 16,\n",
       " ('garbanzo beans', 'feta cheese crumbles'): 6,\n",
       " ('garlic', 'black olives'): 55,\n",
       " ('garlic', 'garbanzo beans'): 54,\n",
       " ('garlic', 'romaine lettuce'): 48,\n",
       " ('garlic', 'grape tomatoes'): 49,\n",
       " ('garlic', 'purple onion'): 399,\n",
       " ('garlic', 'feta cheese crumbles'): 58,\n",
       " ('romaine lettuce', 'black olives'): 7,\n",
       " ('romaine lettuce', 'garbanzo beans'): 5,\n",
       " ('romaine lettuce', 'garlic'): 48,\n",
       " ('romaine lettuce', 'grape tomatoes'): 16,\n",
       " ('romaine lettuce', 'purple onion'): 74,\n",
       " ('romaine lettuce', 'feta cheese crumbles'): 20,\n",
       " ('grape tomatoes', 'black olives'): 4,\n",
       " ('grape tomatoes', 'garbanzo beans'): 2,\n",
       " ('grape tomatoes', 'garlic'): 49,\n",
       " ('grape tomatoes', 'romaine lettuce'): 16,\n",
       " ('grape tomatoes', 'purple onion'): 54,\n",
       " ('grape tomatoes', 'feta cheese crumbles'): 15,\n",
       " ('purple onion', 'black olives'): 34,\n",
       " ('purple onion', 'garbanzo beans'): 16,\n",
       " ('purple onion', 'garlic'): 399,\n",
       " ('purple onion', 'romaine lettuce'): 74,\n",
       " ('purple onion', 'grape tomatoes'): 54,\n",
       " ('purple onion', 'feta cheese crumbles'): 83,\n",
       " ('feta cheese crumbles', 'black olives'): 12,\n",
       " ('feta cheese crumbles', 'garbanzo beans'): 6,\n",
       " ('feta cheese crumbles', 'garlic'): 58,\n",
       " ('feta cheese crumbles', 'romaine lettuce'): 20,\n",
       " ('feta cheese crumbles', 'grape tomatoes'): 15,\n",
       " ('feta cheese crumbles', 'purple onion'): 83,\n",
       " ('eggs', 'yellow corn meal'): 58,\n",
       " ('eggs', 'green tomatoes'): 26,\n",
       " ('eggs', 'thyme'): 22,\n",
       " ('eggs', 'tomatoes'): 143,\n",
       " ('eggs', 'plain flour'): 59,\n",
       " ('eggs', 'milk'): 734,\n",
       " ('eggs', 'vegetable oil'): 463,\n",
       " ('yellow corn meal', 'eggs'): 58,\n",
       " ('yellow corn meal', 'green tomatoes'): 16,\n",
       " ('yellow corn meal', 'thyme'): 3,\n",
       " ('yellow corn meal', 'tomatoes'): 13,\n",
       " ('yellow corn meal', 'plain flour'): 1,\n",
       " ('yellow corn meal', 'milk'): 58,\n",
       " ('yellow corn meal', 'vegetable oil'): 69,\n",
       " ('green tomatoes', 'eggs'): 26,\n",
       " ('green tomatoes', 'yellow corn meal'): 16,\n",
       " ('green tomatoes', 'thyme'): 1,\n",
       " ('green tomatoes', 'tomatoes'): 5,\n",
       " ('green tomatoes', 'plain flour'): 2,\n",
       " ('green tomatoes', 'milk'): 13,\n",
       " ('green tomatoes', 'vegetable oil'): 30,\n",
       " ('thyme', 'eggs'): 22,\n",
       " ('thyme', 'yellow corn meal'): 3,\n",
       " ('thyme', 'green tomatoes'): 1,\n",
       " ('thyme', 'tomatoes'): 49,\n",
       " ('thyme', 'plain flour'): 2,\n",
       " ('thyme', 'milk'): 19,\n",
       " ('thyme', 'vegetable oil'): 43,\n",
       " ('tomatoes', 'eggs'): 143,\n",
       " ('tomatoes', 'yellow corn meal'): 13,\n",
       " ('tomatoes', 'green tomatoes'): 5,\n",
       " ('tomatoes', 'thyme'): 49,\n",
       " ('tomatoes', 'plain flour'): 6,\n",
       " ('tomatoes', 'milk'): 78,\n",
       " ('tomatoes', 'vegetable oil'): 326,\n",
       " ('plain flour', 'eggs'): 59,\n",
       " ('plain flour', 'yellow corn meal'): 1,\n",
       " ('plain flour', 'green tomatoes'): 2,\n",
       " ('plain flour', 'thyme'): 2,\n",
       " ('plain flour', 'tomatoes'): 6,\n",
       " ('plain flour', 'milk'): 41,\n",
       " ('plain flour', 'vegetable oil'): 28,\n",
       " ('milk', 'eggs'): 734,\n",
       " ('milk', 'yellow corn meal'): 58,\n",
       " ('milk', 'green tomatoes'): 13,\n",
       " ('milk', 'thyme'): 19,\n",
       " ('milk', 'tomatoes'): 78,\n",
       " ('milk', 'plain flour'): 41,\n",
       " ('milk', 'vegetable oil'): 219,\n",
       " ('vegetable oil', 'eggs'): 463,\n",
       " ('vegetable oil', 'yellow corn meal'): 69,\n",
       " ('vegetable oil', 'green tomatoes'): 30,\n",
       " ('vegetable oil', 'thyme'): 43,\n",
       " ('vegetable oil', 'tomatoes'): 326,\n",
       " ('vegetable oil', 'plain flour'): 28,\n",
       " ('vegetable oil', 'milk'): 219,\n",
       " ('eggs', 'yellow onion'): 78,\n",
       " ('eggs', 'cooking oil'): 51,\n",
       " ('eggs', 'grilled chicken breasts'): 1,\n",
       " ('eggs', 'butter'): 776,\n",
       " ('eggs', 'mayonaise'): 94,\n",
       " ('eggs', 'green chilies'): 41,\n",
       " ('eggs', 'chicken livers'): 10,\n",
       " ('yellow onion', 'eggs'): 78,\n",
       " ('yellow onion', 'cooking oil'): 17,\n",
       " ('yellow onion', 'grilled chicken breasts'): 1,\n",
       " ('yellow onion', 'butter'): 94,\n",
       " ('yellow onion', 'mayonaise'): 9,\n",
       " ('yellow onion', 'green chilies'): 12,\n",
       " ('yellow onion', 'chicken livers'): 6,\n",
       " ('cooking oil', 'eggs'): 51,\n",
       " ('cooking oil', 'yellow onion'): 17,\n",
       " ('cooking oil', 'grilled chicken breasts'): 1,\n",
       " ('cooking oil', 'butter'): 32,\n",
       " ('cooking oil', 'mayonaise'): 5,\n",
       " ('cooking oil', 'green chilies'): 20,\n",
       " ('cooking oil', 'chicken livers'): 1,\n",
       " ('grilled chicken breasts', 'eggs'): 1,\n",
       " ('grilled chicken breasts', 'yellow onion'): 1,\n",
       " ('grilled chicken breasts', 'cooking oil'): 1,\n",
       " ('grilled chicken breasts', 'butter'): 1,\n",
       " ('grilled chicken breasts', 'mayonaise'): 1,\n",
       " ('grilled chicken breasts', 'green chilies'): 1,\n",
       " ('grilled chicken breasts', 'chicken livers'): 1,\n",
       " ('butter', 'eggs'): 776,\n",
       " ('butter', 'yellow onion'): 94,\n",
       " ('butter', 'cooking oil'): 32,\n",
       " ('butter', 'grilled chicken breasts'): 1,\n",
       " ('butter', 'mayonaise'): 51,\n",
       " ('butter', 'green chilies'): 64,\n",
       " ('butter', 'chicken livers'): 17,\n",
       " ('mayonaise', 'eggs'): 94,\n",
       " ('mayonaise', 'yellow onion'): 9,\n",
       " ('mayonaise', 'cooking oil'): 5,\n",
       " ('mayonaise', 'grilled chicken breasts'): 1,\n",
       " ('mayonaise', 'butter'): 51,\n",
       " ('mayonaise', 'green chilies'): 4,\n",
       " ('mayonaise', 'chicken livers'): 5,\n",
       " ('green chilies', 'eggs'): 41,\n",
       " ('green chilies', 'yellow onion'): 12,\n",
       " ('green chilies', 'cooking oil'): 20,\n",
       " ('green chilies', 'grilled chicken breasts'): 1,\n",
       " ('green chilies', 'butter'): 64,\n",
       " ('green chilies', 'mayonaise'): 4,\n",
       " ('green chilies', 'chicken livers'): 1,\n",
       " ('chicken livers', 'eggs'): 10,\n",
       " ('chicken livers', 'yellow onion'): 6,\n",
       " ('chicken livers', 'cooking oil'): 1,\n",
       " ('chicken livers', 'grilled chicken breasts'): 1,\n",
       " ('chicken livers', 'butter'): 17,\n",
       " ('chicken livers', 'mayonaise'): 5,\n",
       " ('chicken livers', 'green chilies'): 1,\n",
       " ('vegetable oil', 'wheat'): 1,\n",
       " ('wheat', 'vegetable oil'): 1,\n",
       " ('onions', 'ground cumin'): 936,\n",
       " ('onions', 'natural yogurt'): 13,\n",
       " ('onions', 'boneless chicken skinless thigh'): 101,\n",
       " ('onions', 'shallots'): 90,\n",
       " ('onions', 'garam masala'): 518,\n",
       " ('onions', 'cornflour'): 19,\n",
       " ('onions', 'garlic paste'): 178,\n",
       " ('onions', 'lemon juice'): 286,\n",
       " ('onions', 'double cream'): 17,\n",
       " ('onions', 'butter'): 934,\n",
       " ('onions', 'passata'): 19,\n",
       " ('onions', 'oil'): 728,\n",
       " ('onions', 'milk'): 332,\n",
       " ('onions', 'bay leaf'): 461,\n",
       " ('ground cumin', 'onions'): 936,\n",
       " ('ground cumin', 'natural yogurt'): 6,\n",
       " ('ground cumin', 'boneless chicken skinless thigh'): 61,\n",
       " ('ground cumin', 'shallots'): 59,\n",
       " ('ground cumin', 'garam masala'): 267,\n",
       " ('ground cumin', 'cornflour'): 6,\n",
       " ('ground cumin', 'garlic paste'): 57,\n",
       " ('ground cumin', 'lemon juice'): 167,\n",
       " ('ground cumin', 'double cream'): 4,\n",
       " ('ground cumin', 'butter'): 168,\n",
       " ('ground cumin', 'passata'): 8,\n",
       " ('ground cumin', 'oil'): 149,\n",
       " ('ground cumin', 'milk'): 42,\n",
       " ('ground cumin', 'bay leaf'): 75,\n",
       " ('natural yogurt', 'onions'): 13,\n",
       " ('natural yogurt', 'ground cumin'): 6,\n",
       " ('natural yogurt', 'boneless chicken skinless thigh'): 1,\n",
       " ('natural yogurt', 'shallots'): 1,\n",
       " ('natural yogurt', 'garam masala'): 6,\n",
       " ('natural yogurt', 'cornflour'): 1,\n",
       " ('natural yogurt', 'garlic paste'): 1,\n",
       " ('natural yogurt', 'lemon juice'): 2,\n",
       " ('natural yogurt', 'double cream'): 1,\n",
       " ('natural yogurt', 'butter'): 5,\n",
       " ('natural yogurt', 'passata'): 3,\n",
       " ('natural yogurt', 'oil'): 1,\n",
       " ('natural yogurt', 'milk'): 2,\n",
       " ('natural yogurt', 'bay leaf'): 1,\n",
       " ('boneless chicken skinless thigh', 'onions'): 101,\n",
       " ('boneless chicken skinless thigh', 'ground cumin'): 61,\n",
       " ('boneless chicken skinless thigh', 'natural yogurt'): 1,\n",
       " ('boneless chicken skinless thigh', 'shallots'): 18,\n",
       " ('boneless chicken skinless thigh', 'garam masala'): 36,\n",
       " ('boneless chicken skinless thigh', 'cornflour'): 3,\n",
       " ('boneless chicken skinless thigh', 'garlic paste'): 6,\n",
       " ('boneless chicken skinless thigh', 'lemon juice'): 10,\n",
       " ('boneless chicken skinless thigh', 'double cream'): 1,\n",
       " ('boneless chicken skinless thigh', 'butter'): 22,\n",
       " ('boneless chicken skinless thigh', 'passata'): 1,\n",
       " ('boneless chicken skinless thigh', 'oil'): 15,\n",
       " ('boneless chicken skinless thigh', 'milk'): 3,\n",
       " ('boneless chicken skinless thigh', 'bay leaf'): 12,\n",
       " ('shallots', 'onions'): 90,\n",
       " ('shallots', 'ground cumin'): 59,\n",
       " ('shallots', 'natural yogurt'): 1,\n",
       " ('shallots', 'boneless chicken skinless thigh'): 18,\n",
       " ('shallots', 'garam masala'): 15,\n",
       " ('shallots', 'cornflour'): 5,\n",
       " ('shallots', 'garlic paste'): 5,\n",
       " ('shallots', 'lemon juice'): 45,\n",
       " ('shallots', 'double cream'): 2,\n",
       " ('shallots', 'butter'): 225,\n",
       " ('shallots', 'passata'): 1,\n",
       " ('shallots', 'oil'): 70,\n",
       " ('shallots', 'milk'): 31,\n",
       " ('shallots', 'bay leaf'): 51,\n",
       " ('garam masala', 'onions'): 518,\n",
       " ('garam masala', 'ground cumin'): 267,\n",
       " ('garam masala', 'natural yogurt'): 6,\n",
       " ('garam masala', 'boneless chicken skinless thigh'): 36,\n",
       " ('garam masala', 'shallots'): 15,\n",
       " ('garam masala', 'cornflour'): 5,\n",
       " ('garam masala', 'garlic paste'): 141,\n",
       " ('garam masala', 'lemon juice'): 119,\n",
       " ('garam masala', 'double cream'): 7,\n",
       " ('garam masala', 'butter'): 127,\n",
       " ('garam masala', 'passata'): 7,\n",
       " ('garam masala', 'oil'): 250,\n",
       " ('garam masala', 'milk'): 38,\n",
       " ('garam masala', 'bay leaf'): 61,\n",
       " ('cornflour', 'onions'): 19,\n",
       " ('cornflour', 'ground cumin'): 6,\n",
       " ('cornflour', 'natural yogurt'): 1,\n",
       " ('cornflour', 'boneless chicken skinless thigh'): 3,\n",
       " ('cornflour', 'shallots'): 5,\n",
       " ('cornflour', 'garam masala'): 5,\n",
       " ('cornflour', 'garlic paste'): 2,\n",
       " ('cornflour', 'lemon juice'): 11,\n",
       " ('cornflour', 'double cream'): 2,\n",
       " ('cornflour', 'butter'): 7,\n",
       " ('cornflour', 'passata'): 1,\n",
       " ('cornflour', 'oil'): 28,\n",
       " ('cornflour', 'milk'): 11,\n",
       " ('cornflour', 'bay leaf'): 1,\n",
       " ('garlic paste', 'onions'): 178,\n",
       " ('garlic paste', 'ground cumin'): 57,\n",
       " ('garlic paste', 'natural yogurt'): 1,\n",
       " ('garlic paste', 'boneless chicken skinless thigh'): 6,\n",
       " ('garlic paste', 'shallots'): 5,\n",
       " ('garlic paste', 'garam masala'): 141,\n",
       " ('garlic paste', 'cornflour'): 2,\n",
       " ('garlic paste', 'lemon juice'): 50,\n",
       " ('garlic paste', 'double cream'): 5,\n",
       " ('garlic paste', 'butter'): 33,\n",
       " ('garlic paste', 'passata'): 2,\n",
       " ('garlic paste', 'oil'): 143,\n",
       " ('garlic paste', 'milk'): 17,\n",
       " ('garlic paste', 'bay leaf'): 41,\n",
       " ('lemon juice', 'onions'): 286,\n",
       " ('lemon juice', 'ground cumin'): 167,\n",
       " ('lemon juice', 'natural yogurt'): 2,\n",
       " ('lemon juice', 'boneless chicken skinless thigh'): 10,\n",
       " ('lemon juice', 'shallots'): 45,\n",
       " ('lemon juice', 'garam masala'): 119,\n",
       " ('lemon juice', 'cornflour'): 11,\n",
       " ('lemon juice', 'garlic paste'): 50,\n",
       " ('lemon juice', 'double cream'): 4,\n",
       " ('lemon juice', 'butter'): 248,\n",
       " ('lemon juice', 'passata'): 1,\n",
       " ('lemon juice', 'oil'): 99,\n",
       " ('lemon juice', 'milk'): 91,\n",
       " ('lemon juice', 'bay leaf'): 34,\n",
       " ('double cream', 'onions'): 17,\n",
       " ('double cream', 'ground cumin'): 4,\n",
       " ('double cream', 'natural yogurt'): 1,\n",
       " ('double cream', 'boneless chicken skinless thigh'): 1,\n",
       " ('double cream', 'shallots'): 2,\n",
       " ('double cream', 'garam masala'): 7,\n",
       " ('double cream', 'cornflour'): 2,\n",
       " ('double cream', 'garlic paste'): 5,\n",
       " ('double cream', 'lemon juice'): 4,\n",
       " ('double cream', 'butter'): 20,\n",
       " ('double cream', 'passata'): 2,\n",
       " ('double cream', 'oil'): 5,\n",
       " ('double cream', 'milk'): 7,\n",
       " ('double cream', 'bay leaf'): 1,\n",
       " ('butter', 'onions'): 934,\n",
       " ('butter', 'ground cumin'): 168,\n",
       " ('butter', 'natural yogurt'): 5,\n",
       " ('butter', 'boneless chicken skinless thigh'): 22,\n",
       " ('butter', 'shallots'): 225,\n",
       " ('butter', 'garam masala'): 127,\n",
       " ('butter', 'cornflour'): 7,\n",
       " ('butter', 'garlic paste'): 33,\n",
       " ('butter', 'lemon juice'): 248,\n",
       " ('butter', 'double cream'): 20,\n",
       " ('butter', 'passata'): 5,\n",
       " ('butter', 'oil'): 133,\n",
       " ('butter', 'milk'): 835,\n",
       " ('butter', 'bay leaf'): 128,\n",
       " ('passata', 'onions'): 19,\n",
       " ('passata', 'ground cumin'): 8,\n",
       " ('passata', 'natural yogurt'): 3,\n",
       " ('passata', 'boneless chicken skinless thigh'): 1,\n",
       " ('passata', 'shallots'): 1,\n",
       " ('passata', 'garam masala'): 7,\n",
       " ('passata', 'cornflour'): 1,\n",
       " ('passata', 'garlic paste'): 2,\n",
       " ('passata', 'lemon juice'): 1,\n",
       " ('passata', 'double cream'): 2,\n",
       " ('passata', 'butter'): 5,\n",
       " ('passata', 'oil'): 3,\n",
       " ('passata', 'milk'): 2,\n",
       " ('passata', 'bay leaf'): 2,\n",
       " ('oil', 'onions'): 728,\n",
       " ('oil', 'ground cumin'): 149,\n",
       " ('oil', 'natural yogurt'): 1,\n",
       " ('oil', 'boneless chicken skinless thigh'): 15,\n",
       " ('oil', 'shallots'): 70,\n",
       " ('oil', 'garam masala'): 250,\n",
       " ('oil', 'cornflour'): 28,\n",
       " ('oil', 'garlic paste'): 143,\n",
       " ('oil', 'lemon juice'): 99,\n",
       " ('oil', 'double cream'): 5,\n",
       " ('oil', 'butter'): 133,\n",
       " ('oil', 'passata'): 3,\n",
       " ('oil', 'milk'): 113,\n",
       " ('oil', 'bay leaf'): 80,\n",
       " ('milk', 'onions'): 332,\n",
       " ('milk', 'ground cumin'): 42,\n",
       " ('milk', 'natural yogurt'): 2,\n",
       " ('milk', 'boneless chicken skinless thigh'): 3,\n",
       " ('milk', 'shallots'): 31,\n",
       " ('milk', 'garam masala'): 38,\n",
       " ('milk', 'cornflour'): 11,\n",
       " ('milk', 'garlic paste'): 17,\n",
       " ('milk', 'lemon juice'): 91,\n",
       " ('milk', 'double cream'): 7,\n",
       " ('milk', 'butter'): 835,\n",
       " ('milk', 'passata'): 2,\n",
       " ('milk', 'oil'): 113,\n",
       " ('milk', 'bay leaf'): 39,\n",
       " ('bay leaf', 'onions'): 461,\n",
       " ('bay leaf', 'ground cumin'): 75,\n",
       " ('bay leaf', 'natural yogurt'): 1,\n",
       " ('bay leaf', 'boneless chicken skinless thigh'): 12,\n",
       " ('bay leaf', 'shallots'): 51,\n",
       " ('bay leaf', 'garam masala'): 61,\n",
       " ('bay leaf', 'cornflour'): 1,\n",
       " ('bay leaf', 'garlic paste'): 41,\n",
       " ('bay leaf', 'lemon juice'): 34,\n",
       " ('bay leaf', 'double cream'): 1,\n",
       " ('bay leaf', 'butter'): 128,\n",
       " ('bay leaf', 'passata'): 2,\n",
       " ('bay leaf', 'oil'): 80,\n",
       " ('bay leaf', 'milk'): 39,\n",
       " ('eggs', 'powdered sugar'): 87,\n",
       " ('eggs', 'sugar'): 732,\n",
       " ('eggs', 'ground cinnamon'): 182,\n",
       " ('eggs', 'vanilla extract'): 339,\n",
       " ('eggs', 'fresh ginger root'): 17,\n",
       " ('eggs', 'ground ginger'): 57,\n",
       " ('powdered sugar', 'eggs'): 87,\n",
       " ('powdered sugar', 'sugar'): 203,\n",
       " ('powdered sugar', 'ground cinnamon'): 67,\n",
       " ('powdered sugar', 'plain flour'): 12,\n",
       " ('powdered sugar', 'butter'): 158,\n",
       " ('powdered sugar', 'vanilla extract'): 186,\n",
       " ('powdered sugar', 'fresh ginger root'): 1,\n",
       " ('powdered sugar', 'milk'): 91,\n",
       " ('powdered sugar', 'ground ginger'): 13,\n",
       " ('sugar', 'eggs'): 732,\n",
       " ('sugar', 'powdered sugar'): 203,\n",
       " ('sugar', 'ground cinnamon'): 291,\n",
       " ('sugar', 'plain flour'): 28,\n",
       " ('sugar', 'butter'): 864,\n",
       " ('sugar', 'vanilla extract'): 649,\n",
       " ('sugar', 'fresh ginger root'): 24,\n",
       " ('sugar', 'milk'): 598,\n",
       " ('sugar', 'ground ginger'): 103,\n",
       " ('ground cinnamon', 'eggs'): 182,\n",
       " ('ground cinnamon', 'powdered sugar'): 67,\n",
       " ('ground cinnamon', 'sugar'): 291,\n",
       " ('ground cinnamon', 'plain flour'): 13,\n",
       " ('ground cinnamon', 'butter'): 299,\n",
       " ('ground cinnamon', 'vanilla extract'): 222,\n",
       " ('ground cinnamon', 'fresh ginger root'): 16,\n",
       " ('ground cinnamon', 'milk'): 142,\n",
       " ('ground cinnamon', 'ground ginger'): 181,\n",
       " ('plain flour', 'powdered sugar'): 12,\n",
       " ('plain flour', 'sugar'): 28,\n",
       " ('plain flour', 'ground cinnamon'): 13,\n",
       " ('plain flour', 'butter'): 49,\n",
       " ('plain flour', 'vanilla extract'): 7,\n",
       " ('plain flour', 'fresh ginger root'): 9,\n",
       " ('plain flour', 'ground ginger'): 5,\n",
       " ('butter', 'powdered sugar'): 158,\n",
       " ('butter', 'sugar'): 864,\n",
       " ('butter', 'ground cinnamon'): 299,\n",
       " ('butter', 'plain flour'): 49,\n",
       " ('butter', 'vanilla extract'): 479,\n",
       " ('butter', 'fresh ginger root'): 19,\n",
       " ('butter', 'ground ginger'): 57,\n",
       " ('vanilla extract', 'eggs'): 339,\n",
       " ('vanilla extract', 'powdered sugar'): 186,\n",
       " ('vanilla extract', 'sugar'): 649,\n",
       " ('vanilla extract', 'ground cinnamon'): 222,\n",
       " ('vanilla extract', 'plain flour'): 7,\n",
       " ('vanilla extract', 'butter'): 479,\n",
       " ('vanilla extract', 'fresh ginger root'): 3,\n",
       " ('vanilla extract', 'milk'): 247,\n",
       " ('vanilla extract', 'ground ginger'): 28,\n",
       " ('fresh ginger root', 'eggs'): 17,\n",
       " ('fresh ginger root', 'powdered sugar'): 1,\n",
       " ('fresh ginger root', 'sugar'): 24,\n",
       " ('fresh ginger root', 'ground cinnamon'): 16,\n",
       " ('fresh ginger root', 'plain flour'): 9,\n",
       " ('fresh ginger root', 'butter'): 19,\n",
       " ('fresh ginger root', 'vanilla extract'): 3,\n",
       " ('fresh ginger root', 'milk'): 5,\n",
       " ('fresh ginger root', 'ground ginger'): 8,\n",
       " ('milk', 'powdered sugar'): 91,\n",
       " ('milk', 'sugar'): 598,\n",
       " ('milk', 'ground cinnamon'): 142,\n",
       " ('milk', 'vanilla extract'): 247,\n",
       " ('milk', 'fresh ginger root'): 5,\n",
       " ('milk', 'ground ginger'): 23,\n",
       " ('ground ginger', 'eggs'): 57,\n",
       " ('ground ginger', 'powdered sugar'): 13,\n",
       " ('ground ginger', 'sugar'): 103,\n",
       " ('ground ginger', 'ground cinnamon'): 181,\n",
       " ('ground ginger', 'plain flour'): 5,\n",
       " ('ground ginger', 'butter'): 57,\n",
       " ('ground ginger', 'vanilla extract'): 28,\n",
       " ('ground ginger', 'fresh ginger root'): 8,\n",
       " ('ground ginger', 'milk'): 23,\n",
       " ('skirt steak', 'medium shrimp'): 1,\n",
       " ('skirt steak', 'jalapeno chilies'): 8,\n",
       " ('skirt steak', 'flat leaf parsley'): 2,\n",
       " ('skirt steak', 'chopped cilantro'): 5,\n",
       " ('skirt steak', 'white vinegar'): 5,\n",
       " ('skirt steak', 'chorizo sausage'): 2,\n",
       " ('skirt steak', 'garlic'): 16,\n",
       " ('skirt steak', 'olive oil'): 22,\n",
       " ('skirt steak', 'bay leaf'): 1,\n",
       " ('medium shrimp', 'skirt steak'): 1,\n",
       " ('medium shrimp', 'jalapeno chilies'): 31,\n",
       " ('medium shrimp', 'flat leaf parsley'): 28,\n",
       " ('medium shrimp', 'chopped cilantro'): 14,\n",
       " ('medium shrimp', 'white vinegar'): 5,\n",
       " ('medium shrimp', 'chorizo sausage'): 5,\n",
       " ('medium shrimp', 'garlic'): 116,\n",
       " ('medium shrimp', 'olive oil'): 115,\n",
       " ('medium shrimp', 'bay leaf'): 28,\n",
       " ('jalapeno chilies', 'skirt steak'): 8,\n",
       " ('jalapeno chilies', 'medium shrimp'): 31,\n",
       " ('jalapeno chilies', 'flat leaf parsley'): 15,\n",
       " ('jalapeno chilies', 'chopped cilantro'): 151,\n",
       " ('jalapeno chilies', 'white vinegar'): 44,\n",
       " ('jalapeno chilies', 'chorizo sausage'): 11,\n",
       " ('jalapeno chilies', 'garlic'): 527,\n",
       " ('jalapeno chilies', 'olive oil'): 355,\n",
       " ('jalapeno chilies', 'bay leaf'): 26,\n",
       " ('flat leaf parsley', 'skirt steak'): 2,\n",
       " ('flat leaf parsley', 'medium shrimp'): 28,\n",
       " ('flat leaf parsley', 'jalapeno chilies'): 15,\n",
       " ('flat leaf parsley', 'chopped cilantro'): 5,\n",
       " ('flat leaf parsley', 'white vinegar'): 4,\n",
       " ('flat leaf parsley', 'chorizo sausage'): 6,\n",
       " ('flat leaf parsley', 'garlic'): 218,\n",
       " ('flat leaf parsley', 'olive oil'): 488,\n",
       " ('flat leaf parsley', 'bay leaf'): 57,\n",
       " ('chopped cilantro', 'skirt steak'): 5,\n",
       " ('chopped cilantro', 'medium shrimp'): 14,\n",
       " ('chopped cilantro', 'jalapeno chilies'): 151,\n",
       " ('chopped cilantro', 'flat leaf parsley'): 5,\n",
       " ('chopped cilantro', 'white vinegar'): 10,\n",
       " ('chopped cilantro', 'chorizo sausage'): 4,\n",
       " ('chopped cilantro', 'garlic'): 244,\n",
       " ('chopped cilantro', 'olive oil'): 166,\n",
       " ('chopped cilantro', 'bay leaf'): 22,\n",
       " ('white vinegar', 'skirt steak'): 5,\n",
       " ('white vinegar', 'medium shrimp'): 5,\n",
       " ('white vinegar', 'jalapeno chilies'): 44,\n",
       " ('white vinegar', 'flat leaf parsley'): 4,\n",
       " ('white vinegar', 'chopped cilantro'): 10,\n",
       " ('white vinegar', 'chorizo sausage'): 1,\n",
       " ('white vinegar', 'garlic'): 157,\n",
       " ('white vinegar', 'olive oil'): 78,\n",
       " ('white vinegar', 'bay leaf'): 21,\n",
       " ('chorizo sausage', 'skirt steak'): 2,\n",
       " ('chorizo sausage', 'medium shrimp'): 5,\n",
       " ('chorizo sausage', 'jalapeno chilies'): 11,\n",
       " ('chorizo sausage', 'flat leaf parsley'): 6,\n",
       " ('chorizo sausage', 'chopped cilantro'): 4,\n",
       " ('chorizo sausage', 'white vinegar'): 1,\n",
       " ('chorizo sausage', 'garlic'): 27,\n",
       " ('chorizo sausage', 'olive oil'): 35,\n",
       " ('chorizo sausage', 'bay leaf'): 5,\n",
       " ('garlic', 'skirt steak'): 16,\n",
       " ('garlic', 'medium shrimp'): 116,\n",
       " ('garlic', 'jalapeno chilies'): 527,\n",
       " ('garlic', 'flat leaf parsley'): 218,\n",
       " ('garlic', 'chopped cilantro'): 244,\n",
       " ('garlic', 'white vinegar'): 157,\n",
       " ('garlic', 'chorizo sausage'): 27,\n",
       " ('garlic', 'olive oil'): 2080,\n",
       " ('garlic', 'bay leaf'): 294,\n",
       " ('olive oil', 'skirt steak'): 22,\n",
       " ('olive oil', 'medium shrimp'): 115,\n",
       " ('olive oil', 'jalapeno chilies'): 355,\n",
       " ('olive oil', 'flat leaf parsley'): 488,\n",
       " ('olive oil', 'chopped cilantro'): 166,\n",
       " ('olive oil', 'white vinegar'): 78,\n",
       " ('olive oil', 'chorizo sausage'): 35,\n",
       " ('olive oil', 'garlic'): 2080,\n",
       " ('olive oil', 'bay leaf'): 259,\n",
       " ('bay leaf', 'skirt steak'): 1,\n",
       " ('bay leaf', 'medium shrimp'): 28,\n",
       " ('bay leaf', 'jalapeno chilies'): 26,\n",
       " ('bay leaf', 'flat leaf parsley'): 57,\n",
       " ('bay leaf', 'chopped cilantro'): 22,\n",
       " ('bay leaf', 'white vinegar'): 21,\n",
       " ('bay leaf', 'chorizo sausage'): 5,\n",
       " ('bay leaf', 'garlic'): 294,\n",
       " ('bay leaf', 'olive oil'): 259,\n",
       " ('eggs', 'almond extract'): 34,\n",
       " ('eggs', 'white almond bark'): 1,\n",
       " ('eggs', 'flour'): 422,\n",
       " ('eggs', 'dried cranberries'): 5,\n",
       " ('eggs', 'olive oil'): 428,\n",
       " ('eggs', 'pistachio nuts'): 6,\n",
       " ('sugar', 'almond extract'): 106,\n",
       " ('sugar', 'white almond bark'): 1,\n",
       " ('sugar', 'flour'): 377,\n",
       " ('sugar', 'dried cranberries'): 24,\n",
       " ('sugar', 'olive oil'): 526,\n",
       " ('sugar', 'pistachio nuts'): 6,\n",
       " ('almond extract', 'eggs'): 34,\n",
       " ('almond extract', 'sugar'): 106,\n",
       " ('almond extract', 'white almond bark'): 1,\n",
       " ('almond extract', 'flour'): 11,\n",
       " ('almond extract', 'dried cranberries'): 3,\n",
       " ('almond extract', 'vanilla extract'): 66,\n",
       " ('almond extract', 'olive oil'): 2,\n",
       " ('almond extract', 'pistachio nuts'): 1,\n",
       " ('white almond bark', 'eggs'): 1,\n",
       " ('white almond bark', 'sugar'): 1,\n",
       " ('white almond bark', 'almond extract'): 1,\n",
       " ('white almond bark', 'flour'): 1,\n",
       " ('white almond bark', 'dried cranberries'): 1,\n",
       " ('white almond bark', 'vanilla extract'): 1,\n",
       " ('white almond bark', 'olive oil'): 1,\n",
       " ('white almond bark', 'pistachio nuts'): 1,\n",
       " ('flour', 'eggs'): 422,\n",
       " ('flour', 'sugar'): 377,\n",
       " ('flour', 'almond extract'): 11,\n",
       " ('flour', 'white almond bark'): 1,\n",
       " ('flour', 'dried cranberries'): 2,\n",
       " ('flour', 'vanilla extract'): 62,\n",
       " ('flour', 'olive oil'): 204,\n",
       " ('flour', 'pistachio nuts'): 4,\n",
       " ('dried cranberries', 'eggs'): 5,\n",
       " ('dried cranberries', 'sugar'): 24,\n",
       " ('dried cranberries', 'almond extract'): 3,\n",
       " ('dried cranberries', 'white almond bark'): 1,\n",
       " ('dried cranberries', 'flour'): 2,\n",
       " ('dried cranberries', 'vanilla extract'): 8,\n",
       " ('dried cranberries', 'olive oil'): 11,\n",
       " ('dried cranberries', 'pistachio nuts'): 1,\n",
       " ('vanilla extract', 'almond extract'): 66,\n",
       " ('vanilla extract', 'white almond bark'): 1,\n",
       " ('vanilla extract', 'flour'): 62,\n",
       " ('vanilla extract', 'dried cranberries'): 8,\n",
       " ('vanilla extract', 'olive oil'): 11,\n",
       " ('vanilla extract', 'pistachio nuts'): 3,\n",
       " ('olive oil', 'eggs'): 428,\n",
       " ('olive oil', 'sugar'): 526,\n",
       " ('olive oil', 'almond extract'): 2,\n",
       " ('olive oil', 'white almond bark'): 1,\n",
       " ('olive oil', 'flour'): 204,\n",
       " ('olive oil', 'dried cranberries'): 11,\n",
       " ('olive oil', 'vanilla extract'): 11,\n",
       " ('olive oil', 'pistachio nuts'): 2,\n",
       " ('pistachio nuts', 'eggs'): 6,\n",
       " ('pistachio nuts', 'sugar'): 6,\n",
       " ('pistachio nuts', 'almond extract'): 1,\n",
       " ('pistachio nuts', 'white almond bark'): 1,\n",
       " ('pistachio nuts', 'flour'): 4,\n",
       " ('pistachio nuts', 'dried cranberries'): 1,\n",
       " ('pistachio nuts', 'vanilla extract'): 3,\n",
       " ('pistachio nuts', 'olive oil'): 2,\n",
       " ('corn tortillas', 'fresh pineapple'): 6,\n",
       " ('corn tortillas', 'jalapeno chilies'): 174,\n",
       " ('corn tortillas', 'iceberg lettuce'): 21,\n",
       " ('corn tortillas', 'pork'): 7,\n",
       " ('corn tortillas', 'chopped cilantro fresh'): 173,\n",
       " ('corn tortillas', 'cheddar cheese'): 47,\n",
       " ('corn tortillas', 'lime'): 141,\n",
       " ('corn tortillas', 'purple onion'): 102,\n",
       " ('corn tortillas', 'olive oil'): 216,\n",
       " ('fresh pineapple', 'corn tortillas'): 6,\n",
       " ('fresh pineapple', 'jalapeno chilies'): 12,\n",
       " ('fresh pineapple', 'iceberg lettuce'): 2,\n",
       " ('fresh pineapple', 'pork'): 1,\n",
       " ('fresh pineapple', 'chopped cilantro fresh'): 5,\n",
       " ('fresh pineapple', 'cheddar cheese'): 1,\n",
       " ('fresh pineapple', 'lime'): 8,\n",
       " ('fresh pineapple', 'purple onion'): 10,\n",
       " ('fresh pineapple', 'olive oil'): 8,\n",
       " ('jalapeno chilies', 'corn tortillas'): 174,\n",
       " ('jalapeno chilies', 'fresh pineapple'): 12,\n",
       " ('jalapeno chilies', 'iceberg lettuce'): 19,\n",
       " ('jalapeno chilies', 'pork'): 7,\n",
       " ('jalapeno chilies', 'chopped cilantro fresh'): 286,\n",
       " ('jalapeno chilies', 'cheddar cheese'): 53,\n",
       " ('jalapeno chilies', 'lime'): 264,\n",
       " ('jalapeno chilies', 'purple onion'): 265,\n",
       " ('iceberg lettuce', 'corn tortillas'): 21,\n",
       " ('iceberg lettuce', 'fresh pineapple'): 2,\n",
       " ('iceberg lettuce', 'jalapeno chilies'): 19,\n",
       " ('iceberg lettuce', 'pork'): 2,\n",
       " ('iceberg lettuce', 'chopped cilantro fresh'): 16,\n",
       " ('iceberg lettuce', 'cheddar cheese'): 7,\n",
       " ('iceberg lettuce', 'lime'): 16,\n",
       " ('iceberg lettuce', 'purple onion'): 23,\n",
       " ('iceberg lettuce', 'olive oil'): 30,\n",
       " ('pork', 'corn tortillas'): 7,\n",
       " ('pork', 'fresh pineapple'): 1,\n",
       " ('pork', 'jalapeno chilies'): 7,\n",
       " ('pork', 'iceberg lettuce'): 2,\n",
       " ('pork', 'chopped cilantro fresh'): 7,\n",
       " ('pork', 'cheddar cheese'): 3,\n",
       " ('pork', 'lime'): 8,\n",
       " ('pork', 'purple onion'): 9,\n",
       " ('pork', 'olive oil'): 24,\n",
       " ('chopped cilantro fresh', 'corn tortillas'): 173,\n",
       " ('chopped cilantro fresh', 'fresh pineapple'): 5,\n",
       " ('chopped cilantro fresh', 'jalapeno chilies'): 286,\n",
       " ('chopped cilantro fresh', 'iceberg lettuce'): 16,\n",
       " ('chopped cilantro fresh', 'pork'): 7,\n",
       " ('chopped cilantro fresh', 'cheddar cheese'): 18,\n",
       " ('chopped cilantro fresh', 'lime'): 123,\n",
       " ('chopped cilantro fresh', 'purple onion'): 218,\n",
       " ('chopped cilantro fresh', 'olive oil'): 428,\n",
       " ('cheddar cheese', 'corn tortillas'): 47,\n",
       " ('cheddar cheese', 'fresh pineapple'): 1,\n",
       " ('cheddar cheese', 'jalapeno chilies'): 53,\n",
       " ('cheddar cheese', 'iceberg lettuce'): 7,\n",
       " ('cheddar cheese', 'pork'): 3,\n",
       " ('cheddar cheese', 'chopped cilantro fresh'): 18,\n",
       " ('cheddar cheese', 'lime'): 26,\n",
       " ('cheddar cheese', 'purple onion'): 29,\n",
       " ('cheddar cheese', 'olive oil'): 68,\n",
       " ('lime', 'corn tortillas'): 141,\n",
       " ('lime', 'fresh pineapple'): 8,\n",
       " ('lime', 'jalapeno chilies'): 264,\n",
       " ('lime', 'iceberg lettuce'): 16,\n",
       " ('lime', 'pork'): 8,\n",
       " ('lime', 'chopped cilantro fresh'): 123,\n",
       " ('lime', 'cheddar cheese'): 26,\n",
       " ('lime', 'purple onion'): 228,\n",
       " ('lime', 'olive oil'): 308,\n",
       " ('purple onion', 'corn tortillas'): 102,\n",
       " ('purple onion', 'fresh pineapple'): 10,\n",
       " ('purple onion', 'jalapeno chilies'): 265,\n",
       " ('purple onion', 'iceberg lettuce'): 23,\n",
       " ('purple onion', 'pork'): 9,\n",
       " ('purple onion', 'chopped cilantro fresh'): 218,\n",
       " ('purple onion', 'cheddar cheese'): 29,\n",
       " ('purple onion', 'lime'): 228,\n",
       " ('purple onion', 'olive oil'): 613,\n",
       " ('olive oil', 'corn tortillas'): 216,\n",
       " ('olive oil', 'fresh pineapple'): 8,\n",
       " ('olive oil', 'iceberg lettuce'): 30,\n",
       " ('olive oil', 'pork'): 24,\n",
       " ('olive oil', 'chopped cilantro fresh'): 428,\n",
       " ('olive oil', 'cheddar cheese'): 68,\n",
       " ('olive oil', 'lime'): 308,\n",
       " ('olive oil', 'purple onion'): 613,\n",
       " ('extra-virgin olive oil', 'chopped tomatoes'): 14,\n",
       " ('extra-virgin olive oil', 'flat leaf parsley'): 340,\n",
       " ('extra-virgin olive oil', 'fresh basil'): 210,\n",
       " ('extra-virgin olive oil', 'garlic'): 488,\n",
       " ('chopped tomatoes', 'extra-virgin olive oil'): 14,\n",
       " ('chopped tomatoes', 'flat leaf parsley'): 7,\n",
       " ('chopped tomatoes', 'fresh basil'): 12,\n",
       " ('chopped tomatoes', 'garlic'): 83,\n",
       " ('flat leaf parsley', 'extra-virgin olive oil'): 340,\n",
       " ('flat leaf parsley', 'chopped tomatoes'): 7,\n",
       " ('flat leaf parsley', 'fresh basil'): 69,\n",
       " ('fresh basil', 'extra-virgin olive oil'): 210,\n",
       " ('fresh basil', 'chopped tomatoes'): 12,\n",
       " ('fresh basil', 'flat leaf parsley'): 69,\n",
       " ('fresh basil', 'garlic'): 226,\n",
       " ('garlic', 'extra-virgin olive oil'): 488,\n",
       " ('garlic', 'chopped tomatoes'): 83,\n",
       " ('garlic', 'fresh basil'): 226,\n",
       " ('pimentos', 'black olives'): 8,\n",
       " ('pimentos', 'provolone cheese'): 4,\n",
       " ('pimentos', 'swiss cheese'): 1,\n",
       " ('pimentos', 'canola oil'): 2,\n",
       " ('pimentos', 'mushrooms'): 2,\n",
       " ('pimentos', 'dried oregano'): 5,\n",
       " ('pimentos', 'sharp cheddar cheese'): 14,\n",
       " ('pimentos', 'garlic'): 17,\n",
       " ('pimentos', 'sausages'): 1,\n",
       " ('pimentos', 'olive oil'): 41,\n",
       " ('black olives', 'pimentos'): 8,\n",
       " ('black olives', 'provolone cheese'): 5,\n",
       " ('black olives', 'swiss cheese'): 1,\n",
       " ('black olives', 'canola oil'): 5,\n",
       " ('black olives', 'mushrooms'): 7,\n",
       " ('black olives', 'dried oregano'): 29,\n",
       " ('black olives', 'sharp cheddar cheese'): 6,\n",
       " ('black olives', 'sausages'): 5,\n",
       " ('black olives', 'olive oil'): 78,\n",
       " ('provolone cheese', 'pimentos'): 4,\n",
       " ('provolone cheese', 'black olives'): 5,\n",
       " ('provolone cheese', 'swiss cheese'): 3,\n",
       " ('provolone cheese', 'canola oil'): 2,\n",
       " ('provolone cheese', 'mushrooms'): 4,\n",
       " ('provolone cheese', 'dried oregano'): 26,\n",
       " ('provolone cheese', 'sharp cheddar cheese'): 1,\n",
       " ('provolone cheese', 'garlic'): 22,\n",
       " ('provolone cheese', 'sausages'): 4,\n",
       " ('provolone cheese', 'olive oil'): 60,\n",
       " ('swiss cheese', 'pimentos'): 1,\n",
       " ('swiss cheese', 'black olives'): 1,\n",
       " ('swiss cheese', 'provolone cheese'): 3,\n",
       " ('swiss cheese', 'canola oil'): 5,\n",
       " ('swiss cheese', 'mushrooms'): 2,\n",
       " ('swiss cheese', 'dried oregano'): 1,\n",
       " ('swiss cheese', 'sharp cheddar cheese'): 1,\n",
       " ('swiss cheese', 'garlic'): 5,\n",
       " ('swiss cheese', 'sausages'): 1,\n",
       " ('swiss cheese', 'olive oil'): 8,\n",
       " ('canola oil', 'pimentos'): 2,\n",
       " ('canola oil', 'black olives'): 5,\n",
       " ('canola oil', 'provolone cheese'): 2,\n",
       " ('canola oil', 'swiss cheese'): 5,\n",
       " ('canola oil', 'mushrooms'): 19,\n",
       " ('canola oil', 'dried oregano'): 61,\n",
       " ('canola oil', 'sharp cheddar cheese'): 6,\n",
       " ('canola oil', 'garlic'): 312,\n",
       " ('canola oil', 'sausages'): 7,\n",
       " ('canola oil', 'olive oil'): 43,\n",
       " ('mushrooms', 'pimentos'): 2,\n",
       " ('mushrooms', 'black olives'): 7,\n",
       " ('mushrooms', 'provolone cheese'): 4,\n",
       " ('mushrooms', 'swiss cheese'): 2,\n",
       " ('mushrooms', 'canola oil'): 19,\n",
       " ('mushrooms', 'dried oregano'): 42,\n",
       " ('mushrooms', 'sharp cheddar cheese'): 2,\n",
       " ('mushrooms', 'garlic'): 160,\n",
       " ('mushrooms', 'sausages'): 8,\n",
       " ('mushrooms', 'olive oil'): 162,\n",
       " ('dried oregano', 'pimentos'): 5,\n",
       " ('dried oregano', 'black olives'): 29,\n",
       " ('dried oregano', 'provolone cheese'): 26,\n",
       " ('dried oregano', 'swiss cheese'): 1,\n",
       " ('dried oregano', 'canola oil'): 61,\n",
       " ('dried oregano', 'mushrooms'): 42,\n",
       " ('dried oregano', 'sharp cheddar cheese'): 4,\n",
       " ('dried oregano', 'garlic'): 520,\n",
       " ('dried oregano', 'sausages'): 20,\n",
       " ('dried oregano', 'olive oil'): 730,\n",
       " ('sharp cheddar cheese', 'pimentos'): 14,\n",
       " ('sharp cheddar cheese', 'black olives'): 6,\n",
       " ('sharp cheddar cheese', 'provolone cheese'): 1,\n",
       " ('sharp cheddar cheese', 'swiss cheese'): 1,\n",
       " ('sharp cheddar cheese', 'canola oil'): 6,\n",
       " ('sharp cheddar cheese', 'mushrooms'): 2,\n",
       " ('sharp cheddar cheese', 'dried oregano'): 4,\n",
       " ('sharp cheddar cheese', 'garlic'): 20,\n",
       " ('sharp cheddar cheese', 'sausages'): 2,\n",
       " ('sharp cheddar cheese', 'olive oil'): 23,\n",
       " ('garlic', 'pimentos'): 17,\n",
       " ('garlic', 'provolone cheese'): 22,\n",
       " ('garlic', 'swiss cheese'): 5,\n",
       " ('garlic', 'canola oil'): 312,\n",
       " ('garlic', 'mushrooms'): 160,\n",
       " ('garlic', 'dried oregano'): 520,\n",
       " ('garlic', 'sharp cheddar cheese'): 20,\n",
       " ('garlic', 'sausages'): 32,\n",
       " ('sausages', 'pimentos'): 1,\n",
       " ('sausages', 'black olives'): 5,\n",
       " ('sausages', 'provolone cheese'): 4,\n",
       " ('sausages', 'swiss cheese'): 1,\n",
       " ('sausages', 'canola oil'): 7,\n",
       " ('sausages', 'mushrooms'): 8,\n",
       " ('sausages', 'dried oregano'): 20,\n",
       " ('sausages', 'sharp cheddar cheese'): 2,\n",
       " ('sausages', 'garlic'): 32,\n",
       " ('sausages', 'olive oil'): 52,\n",
       " ('olive oil', 'pimentos'): 41,\n",
       " ('olive oil', 'black olives'): 78,\n",
       " ('olive oil', 'provolone cheese'): 60,\n",
       " ('olive oil', 'swiss cheese'): 8,\n",
       " ('olive oil', 'canola oil'): 43,\n",
       " ('olive oil', 'mushrooms'): 162,\n",
       " ('olive oil', 'dried oregano'): 730,\n",
       " ('olive oil', 'sharp cheddar cheese'): 23,\n",
       " ('olive oil', 'sausages'): 52,\n",
       " ('green beans', 'scallions'): 13,\n",
       " ('green beans', 'sugar'): 45,\n",
       " ('green beans', 'dry mustard'): 3,\n",
       " ('green beans', 'canola oil'): 13,\n",
       " ('green beans', 'Shaoxing wine'): 1,\n",
       " ('green beans', 'sesame oil'): 16,\n",
       " ('green beans', 'corn starch'): 19,\n",
       " ('green beans', 'garlic'): 80,\n",
       " ('green beans', 'ground turkey'): 4,\n",
       " ('green beans', 'fresh ginger'): 23,\n",
       " ('scallions', 'green beans'): 13,\n",
       " ('scallions', 'sugar'): 469,\n",
       " ('scallions', 'dry mustard'): 4,\n",
       " ('scallions', 'canola oil'): 124,\n",
       " ('scallions', 'Shaoxing wine'): 95,\n",
       " ('scallions', 'sesame oil'): 431,\n",
       " ('scallions', 'corn starch'): 270,\n",
       " ('scallions', 'garlic'): 534,\n",
       " ('scallions', 'ground turkey'): 13,\n",
       " ('scallions', 'fresh ginger'): 258,\n",
       " ('sugar', 'green beans'): 45,\n",
       " ('sugar', 'scallions'): 469,\n",
       " ('sugar', 'dry mustard'): 26,\n",
       " ('sugar', 'canola oil'): 235,\n",
       " ('sugar', 'Shaoxing wine'): 152,\n",
       " ('sugar', 'sesame oil'): 582,\n",
       " ('sugar', 'corn starch'): 662,\n",
       " ('sugar', 'garlic'): 819,\n",
       " ('sugar', 'ground turkey'): 16,\n",
       " ('sugar', 'fresh ginger'): 333,\n",
       " ('dry mustard', 'green beans'): 3,\n",
       " ('dry mustard', 'scallions'): 4,\n",
       " ('dry mustard', 'sugar'): 26,\n",
       " ('dry mustard', 'canola oil'): 3,\n",
       " ('dry mustard', 'Shaoxing wine'): 1,\n",
       " ('dry mustard', 'sesame oil'): 2,\n",
       " ('dry mustard', 'corn starch'): 5,\n",
       " ('dry mustard', 'garlic'): 21,\n",
       " ('dry mustard', 'ground turkey'): 2,\n",
       " ('dry mustard', 'fresh ginger'): 6,\n",
       " ('canola oil', 'green beans'): 13,\n",
       " ('canola oil', 'scallions'): 124,\n",
       " ('canola oil', 'sugar'): 235,\n",
       " ('canola oil', 'dry mustard'): 3,\n",
       " ('canola oil', 'Shaoxing wine'): 11,\n",
       " ('canola oil', 'sesame oil'): 101,\n",
       " ('canola oil', 'corn starch'): 133,\n",
       " ('canola oil', 'ground turkey'): 8,\n",
       " ('canola oil', 'fresh ginger'): 131,\n",
       " ('Shaoxing wine', 'green beans'): 1,\n",
       " ('Shaoxing wine', 'scallions'): 95,\n",
       " ('Shaoxing wine', 'sugar'): 152,\n",
       " ('Shaoxing wine', 'dry mustard'): 1,\n",
       " ('Shaoxing wine', 'canola oil'): 11,\n",
       " ('Shaoxing wine', 'sesame oil'): 129,\n",
       " ('Shaoxing wine', 'corn starch'): 118,\n",
       " ('Shaoxing wine', 'garlic'): 93,\n",
       " ('Shaoxing wine', 'ground turkey'): 1,\n",
       " ('Shaoxing wine', 'fresh ginger'): 40,\n",
       " ('sesame oil', 'green beans'): 16,\n",
       " ('sesame oil', 'scallions'): 431,\n",
       " ('sesame oil', 'sugar'): 582,\n",
       " ('sesame oil', 'dry mustard'): 2,\n",
       " ('sesame oil', 'canola oil'): 101,\n",
       " ('sesame oil', 'Shaoxing wine'): 129,\n",
       " ('sesame oil', 'corn starch'): 400,\n",
       " ('sesame oil', 'garlic'): 641,\n",
       " ('sesame oil', 'ground turkey'): 11,\n",
       " ('sesame oil', 'fresh ginger'): 309,\n",
       " ('corn starch', 'green beans'): 19,\n",
       " ('corn starch', 'scallions'): 270,\n",
       " ('corn starch', 'sugar'): 662,\n",
       " ('corn starch', 'dry mustard'): 5,\n",
       " ('corn starch', 'canola oil'): 133,\n",
       " ('corn starch', 'Shaoxing wine'): 118,\n",
       " ('corn starch', 'sesame oil'): 400,\n",
       " ('corn starch', 'garlic'): 475,\n",
       " ('corn starch', 'ground turkey'): 6,\n",
       " ('corn starch', 'fresh ginger'): 230,\n",
       " ('garlic', 'green beans'): 80,\n",
       " ('garlic', 'scallions'): 534,\n",
       " ('garlic', 'sugar'): 819,\n",
       " ('garlic', 'dry mustard'): 21,\n",
       " ('garlic', 'Shaoxing wine'): 93,\n",
       " ('garlic', 'sesame oil'): 641,\n",
       " ('garlic', 'corn starch'): 475,\n",
       " ('garlic', 'ground turkey'): 45,\n",
       " ('garlic', 'fresh ginger'): 551,\n",
       " ('ground turkey', 'green beans'): 4,\n",
       " ('ground turkey', 'scallions'): 13,\n",
       " ('ground turkey', 'sugar'): 16,\n",
       " ('ground turkey', 'dry mustard'): 2,\n",
       " ('ground turkey', 'canola oil'): 8,\n",
       " ('ground turkey', 'Shaoxing wine'): 1,\n",
       " ('ground turkey', 'sesame oil'): 11,\n",
       " ('ground turkey', 'corn starch'): 6,\n",
       " ('ground turkey', 'garlic'): 45,\n",
       " ('ground turkey', 'fresh ginger'): 9,\n",
       " ('fresh ginger', 'green beans'): 23,\n",
       " ('fresh ginger', 'scallions'): 258,\n",
       " ('fresh ginger', 'sugar'): 333,\n",
       " ('fresh ginger', 'dry mustard'): 6,\n",
       " ('fresh ginger', 'canola oil'): 131,\n",
       " ('fresh ginger', 'Shaoxing wine'): 40,\n",
       " ('fresh ginger', 'sesame oil'): 309,\n",
       " ('fresh ginger', 'corn starch'): 230,\n",
       " ('fresh ginger', 'garlic'): 551,\n",
       " ('fresh ginger', 'ground turkey'): 9,\n",
       " ('walnuts', 'extra-virgin olive oil'): 23,\n",
       " ('walnuts', 'Italian parsley leaves'): 4,\n",
       " ('walnuts', 'chipotle chile'): 1,\n",
       " ('walnuts', 'flat leaf parsley'): 8,\n",
       " ('walnuts', 'garlic cloves'): 16,\n",
       " ('walnuts', 'fresh lemon juice'): 18,\n",
       " ('walnuts', 'trout fillet'): 1,\n",
       " ('extra-virgin olive oil', 'walnuts'): 23,\n",
       " ('extra-virgin olive oil', 'Italian parsley leaves'): 53,\n",
       " ('extra-virgin olive oil', 'chipotle chile'): 6,\n",
       " ('extra-virgin olive oil', 'garlic cloves'): 890,\n",
       " ('extra-virgin olive oil', 'fresh lemon juice'): 391,\n",
       " ('extra-virgin olive oil', 'trout fillet'): 2,\n",
       " ('Italian parsley leaves', 'walnuts'): 4,\n",
       " ('Italian parsley leaves', 'extra-virgin olive oil'): 53,\n",
       " ('Italian parsley leaves', 'chipotle chile'): 1,\n",
       " ('Italian parsley leaves', 'flat leaf parsley'): 9,\n",
       " ('Italian parsley leaves', 'garlic cloves'): 55,\n",
       " ('Italian parsley leaves', 'fresh lemon juice'): 26,\n",
       " ('Italian parsley leaves', 'trout fillet'): 1,\n",
       " ('chipotle chile', 'walnuts'): 1,\n",
       " ('chipotle chile', 'extra-virgin olive oil'): 6,\n",
       " ('chipotle chile', 'Italian parsley leaves'): 1,\n",
       " ('chipotle chile', 'flat leaf parsley'): 2,\n",
       " ('chipotle chile', 'garlic cloves'): 56,\n",
       " ('chipotle chile', 'fresh lemon juice'): 3,\n",
       " ('chipotle chile', 'trout fillet'): 1,\n",
       " ('flat leaf parsley', 'walnuts'): 8,\n",
       " ('flat leaf parsley', 'Italian parsley leaves'): 9,\n",
       " ('flat leaf parsley', 'chipotle chile'): 2,\n",
       " ('flat leaf parsley', 'garlic cloves'): 393,\n",
       " ('flat leaf parsley', 'fresh lemon juice'): 152,\n",
       " ('flat leaf parsley', 'trout fillet'): 1,\n",
       " ('garlic cloves', 'walnuts'): 16,\n",
       " ('garlic cloves', 'extra-virgin olive oil'): 890,\n",
       " ('garlic cloves', 'Italian parsley leaves'): 55,\n",
       " ('garlic cloves', 'chipotle chile'): 56,\n",
       " ('garlic cloves', 'flat leaf parsley'): 393,\n",
       " ('garlic cloves', 'fresh lemon juice'): 499,\n",
       " ('garlic cloves', 'trout fillet'): 3,\n",
       " ('fresh lemon juice', 'walnuts'): 18,\n",
       " ('fresh lemon juice', 'extra-virgin olive oil'): 391,\n",
       " ('fresh lemon juice', 'Italian parsley leaves'): 26,\n",
       " ('fresh lemon juice', 'chipotle chile'): 3,\n",
       " ('fresh lemon juice', 'flat leaf parsley'): 152,\n",
       " ('fresh lemon juice', 'garlic cloves'): 499,\n",
       " ('fresh lemon juice', 'trout fillet'): 3,\n",
       " ('trout fillet', 'walnuts'): 1,\n",
       " ('trout fillet', 'extra-virgin olive oil'): 2,\n",
       " ('trout fillet', 'Italian parsley leaves'): 1,\n",
       " ('trout fillet', 'chipotle chile'): 1,\n",
       " ('trout fillet', 'flat leaf parsley'): 1,\n",
       " ('trout fillet', 'garlic cloves'): 3,\n",
       " ('trout fillet', 'fresh lemon juice'): 3,\n",
       " ('lime juice', 'onions'): 175,\n",
       " ('lime juice', 'ground cumin'): 169,\n",
       " ('lime juice', 'ground cinnamon'): 20,\n",
       " ('lime juice', 'ground coriander'): 22,\n",
       " ('lime juice', 'fresh cilantro'): 94,\n",
       " ('lime juice', 'plum tomatoes'): 17,\n",
       " ('lime juice', 'flank steak'): 24,\n",
       " ('lime juice', 'avocado'): 186,\n",
       " ('lime juice', 'garlic'): 349,\n",
       " ('lime juice', 'olive oil'): 206,\n",
       " ('onions', 'lime juice'): 175,\n",
       " ('onions', 'ground cinnamon'): 239,\n",
       " ('onions', 'ground coriander'): 307,\n",
       " ('onions', 'fresh cilantro'): 217,\n",
       " ('onions', 'plum tomatoes'): 207,\n",
       " ('onions', 'flank steak'): 46,\n",
       " ('onions', 'avocado'): 193,\n",
       " ('onions', 'garlic'): 2659,\n",
       " ('onions', 'olive oil'): 2207,\n",
       " ('ground cumin', 'lime juice'): 169,\n",
       " ('ground cumin', 'ground cinnamon'): 278,\n",
       " ('ground cumin', 'ground coriander'): 520,\n",
       " ('ground cumin', 'fresh cilantro'): 210,\n",
       " ('ground cumin', 'plum tomatoes'): 73,\n",
       " ...}"
      ]
     },
     "execution_count": 15,
     "metadata": {},
     "output_type": "execute_result"
    }
   ],
   "source": [
    "#dic_ings"
   ]
  },
  {
   "cell_type": "code",
   "execution_count": 16,
   "metadata": {},
   "outputs": [
    {
     "data": {
      "text/html": [
       "<div>\n",
       "<style scoped>\n",
       "    .dataframe tbody tr th:only-of-type {\n",
       "        vertical-align: middle;\n",
       "    }\n",
       "\n",
       "    .dataframe tbody tr th {\n",
       "        vertical-align: top;\n",
       "    }\n",
       "\n",
       "    .dataframe thead th {\n",
       "        text-align: right;\n",
       "    }\n",
       "</style>\n",
       "<table border=\"1\" class=\"dataframe\">\n",
       "  <thead>\n",
       "    <tr style=\"text-align: right;\">\n",
       "      <th></th>\n",
       "      <th>index</th>\n",
       "      <th>0</th>\n",
       "    </tr>\n",
       "  </thead>\n",
       "  <tbody>\n",
       "    <tr>\n",
       "      <th>0</th>\n",
       "      <td>(black olives, garbanzo beans)</td>\n",
       "      <td>2</td>\n",
       "    </tr>\n",
       "    <tr>\n",
       "      <th>1</th>\n",
       "      <td>(black olives, garlic)</td>\n",
       "      <td>55</td>\n",
       "    </tr>\n",
       "    <tr>\n",
       "      <th>2</th>\n",
       "      <td>(black olives, romaine lettuce)</td>\n",
       "      <td>7</td>\n",
       "    </tr>\n",
       "    <tr>\n",
       "      <th>3</th>\n",
       "      <td>(black olives, grape tomatoes)</td>\n",
       "      <td>4</td>\n",
       "    </tr>\n",
       "    <tr>\n",
       "      <th>4</th>\n",
       "      <td>(black olives, purple onion)</td>\n",
       "      <td>34</td>\n",
       "    </tr>\n",
       "  </tbody>\n",
       "</table>\n",
       "</div>"
      ],
      "text/plain": [
       "                             index   0\n",
       "0   (black olives, garbanzo beans)   2\n",
       "1           (black olives, garlic)  55\n",
       "2  (black olives, romaine lettuce)   7\n",
       "3   (black olives, grape tomatoes)   4\n",
       "4     (black olives, purple onion)  34"
      ]
     },
     "execution_count": 16,
     "metadata": {},
     "output_type": "execute_result"
    }
   ],
   "source": [
    "df_train_dict1 = pd.DataFrame.from_dict(dic_ings, orient = 'index').reset_index()\n",
    "df_train_dict1.head()"
   ]
  },
  {
   "cell_type": "code",
   "execution_count": 17,
   "metadata": {},
   "outputs": [],
   "source": [
    "df_train_dict1['Source']= df_train_dict1['index'].apply(lambda x: str(x).split(',')[0].replace('(',''))"
   ]
  },
  {
   "cell_type": "code",
   "execution_count": 18,
   "metadata": {},
   "outputs": [],
   "source": [
    "df_train_dict1['Target']= df_train_dict1['index'].apply(lambda x: str(x).split(',')[1].replace(')',''))"
   ]
  },
  {
   "cell_type": "code",
   "execution_count": 19,
   "metadata": {},
   "outputs": [],
   "source": [
    "#df_train_dict1.head()"
   ]
  },
  {
   "cell_type": "code",
   "execution_count": 20,
   "metadata": {},
   "outputs": [],
   "source": [
    "df_train_dict1 = df_train_dict1.rename(columns = {0: 'Weight'})"
   ]
  },
  {
   "cell_type": "code",
   "execution_count": 21,
   "metadata": {},
   "outputs": [],
   "source": [
    "#df_train_dict1.head()"
   ]
  },
  {
   "cell_type": "code",
   "execution_count": 22,
   "metadata": {},
   "outputs": [],
   "source": [
    "df_train_dict1['Source'] = df_train_dict1['Source'].replace(\"\\'\",'', regex = True) \n",
    "df_train_dict1['Target'] = df_train_dict1['Target'].replace(\"\\'\",'', regex = True) "
   ]
  },
  {
   "cell_type": "code",
   "execution_count": 23,
   "metadata": {},
   "outputs": [],
   "source": [
    "df_train_dict1['Source'] = df_train_dict1['Source'].replace(r\"^\\s?\",'', regex = True) \n",
    "df_train_dict1['Target'] = df_train_dict1['Target'].replace(r\"^\\s?\",'', regex = True) "
   ]
  },
  {
   "cell_type": "code",
   "execution_count": 24,
   "metadata": {},
   "outputs": [
    {
     "data": {
      "text/html": [
       "<div>\n",
       "<style scoped>\n",
       "    .dataframe tbody tr th:only-of-type {\n",
       "        vertical-align: middle;\n",
       "    }\n",
       "\n",
       "    .dataframe tbody tr th {\n",
       "        vertical-align: top;\n",
       "    }\n",
       "\n",
       "    .dataframe thead th {\n",
       "        text-align: right;\n",
       "    }\n",
       "</style>\n",
       "<table border=\"1\" class=\"dataframe\">\n",
       "  <thead>\n",
       "    <tr style=\"text-align: right;\">\n",
       "      <th></th>\n",
       "      <th>index</th>\n",
       "      <th>Weight</th>\n",
       "      <th>Source</th>\n",
       "      <th>Target</th>\n",
       "    </tr>\n",
       "  </thead>\n",
       "  <tbody>\n",
       "    <tr>\n",
       "      <th>0</th>\n",
       "      <td>(black olives, garbanzo beans)</td>\n",
       "      <td>2</td>\n",
       "      <td>black olives</td>\n",
       "      <td>garbanzo beans</td>\n",
       "    </tr>\n",
       "    <tr>\n",
       "      <th>1</th>\n",
       "      <td>(black olives, garlic)</td>\n",
       "      <td>55</td>\n",
       "      <td>black olives</td>\n",
       "      <td>garlic</td>\n",
       "    </tr>\n",
       "    <tr>\n",
       "      <th>2</th>\n",
       "      <td>(black olives, romaine lettuce)</td>\n",
       "      <td>7</td>\n",
       "      <td>black olives</td>\n",
       "      <td>romaine lettuce</td>\n",
       "    </tr>\n",
       "    <tr>\n",
       "      <th>3</th>\n",
       "      <td>(black olives, grape tomatoes)</td>\n",
       "      <td>4</td>\n",
       "      <td>black olives</td>\n",
       "      <td>grape tomatoes</td>\n",
       "    </tr>\n",
       "    <tr>\n",
       "      <th>4</th>\n",
       "      <td>(black olives, purple onion)</td>\n",
       "      <td>34</td>\n",
       "      <td>black olives</td>\n",
       "      <td>purple onion</td>\n",
       "    </tr>\n",
       "  </tbody>\n",
       "</table>\n",
       "</div>"
      ],
      "text/plain": [
       "                             index  Weight        Source           Target\n",
       "0   (black olives, garbanzo beans)       2  black olives   garbanzo beans\n",
       "1           (black olives, garlic)      55  black olives           garlic\n",
       "2  (black olives, romaine lettuce)       7  black olives  romaine lettuce\n",
       "3   (black olives, grape tomatoes)       4  black olives   grape tomatoes\n",
       "4     (black olives, purple onion)      34  black olives     purple onion"
      ]
     },
     "execution_count": 24,
     "metadata": {},
     "output_type": "execute_result"
    }
   ],
   "source": [
    "df_train_dict1.head()"
   ]
  },
  {
   "cell_type": "code",
   "execution_count": 25,
   "metadata": {},
   "outputs": [
    {
     "data": {
      "text/plain": [
       "str"
      ]
     },
     "execution_count": 25,
     "metadata": {},
     "output_type": "execute_result"
    }
   ],
   "source": [
    "type(df_train_dict1['Source'][0])"
   ]
  },
  {
   "cell_type": "code",
   "execution_count": 26,
   "metadata": {},
   "outputs": [],
   "source": [
    "df_train_final = df_train_dict1[['Source', 'Target', 'Weight']].copy() "
   ]
  },
  {
   "cell_type": "code",
   "execution_count": 27,
   "metadata": {},
   "outputs": [
    {
     "data": {
      "text/html": [
       "<div>\n",
       "<style scoped>\n",
       "    .dataframe tbody tr th:only-of-type {\n",
       "        vertical-align: middle;\n",
       "    }\n",
       "\n",
       "    .dataframe tbody tr th {\n",
       "        vertical-align: top;\n",
       "    }\n",
       "\n",
       "    .dataframe thead th {\n",
       "        text-align: right;\n",
       "    }\n",
       "</style>\n",
       "<table border=\"1\" class=\"dataframe\">\n",
       "  <thead>\n",
       "    <tr style=\"text-align: right;\">\n",
       "      <th></th>\n",
       "      <th>Source</th>\n",
       "      <th>Target</th>\n",
       "      <th>Weight</th>\n",
       "    </tr>\n",
       "  </thead>\n",
       "  <tbody>\n",
       "    <tr>\n",
       "      <th>0</th>\n",
       "      <td>black olives</td>\n",
       "      <td>garbanzo beans</td>\n",
       "      <td>2</td>\n",
       "    </tr>\n",
       "    <tr>\n",
       "      <th>1</th>\n",
       "      <td>black olives</td>\n",
       "      <td>garlic</td>\n",
       "      <td>55</td>\n",
       "    </tr>\n",
       "    <tr>\n",
       "      <th>2</th>\n",
       "      <td>black olives</td>\n",
       "      <td>romaine lettuce</td>\n",
       "      <td>7</td>\n",
       "    </tr>\n",
       "    <tr>\n",
       "      <th>3</th>\n",
       "      <td>black olives</td>\n",
       "      <td>grape tomatoes</td>\n",
       "      <td>4</td>\n",
       "    </tr>\n",
       "    <tr>\n",
       "      <th>4</th>\n",
       "      <td>black olives</td>\n",
       "      <td>purple onion</td>\n",
       "      <td>34</td>\n",
       "    </tr>\n",
       "  </tbody>\n",
       "</table>\n",
       "</div>"
      ],
      "text/plain": [
       "         Source           Target  Weight\n",
       "0  black olives   garbanzo beans       2\n",
       "1  black olives           garlic      55\n",
       "2  black olives  romaine lettuce       7\n",
       "3  black olives   grape tomatoes       4\n",
       "4  black olives     purple onion      34"
      ]
     },
     "execution_count": 27,
     "metadata": {},
     "output_type": "execute_result"
    }
   ],
   "source": [
    "df_train_final.head()"
   ]
  },
  {
   "cell_type": "code",
   "execution_count": 28,
   "metadata": {},
   "outputs": [
    {
     "data": {
      "text/plain": [
       "729862"
      ]
     },
     "execution_count": 28,
     "metadata": {},
     "output_type": "execute_result"
    }
   ],
   "source": [
    "len(df_train_final)"
   ]
  },
  {
   "cell_type": "code",
   "execution_count": 29,
   "metadata": {},
   "outputs": [
    {
     "data": {
      "text/plain": [
       "0                                  black olives\n",
       "1                                  black olives\n",
       "2                                  black olives\n",
       "3                                  black olives\n",
       "4                                  black olives\n",
       "                          ...                  \n",
       "729857                     toasted sesame seeds\n",
       "729858                     toasted sesame seeds\n",
       "729859                     Chinese rice vinegar\n",
       "729860                       steamed white rice\n",
       "729861    store bought low sodium chicken stock\n",
       "Name: Source, Length: 729862, dtype: object"
      ]
     },
     "execution_count": 29,
     "metadata": {},
     "output_type": "execute_result"
    }
   ],
   "source": [
    "df_train_final.Source"
   ]
  },
  {
   "cell_type": "code",
   "execution_count": 30,
   "metadata": {},
   "outputs": [
    {
     "data": {
      "text/plain": [
       "6157"
      ]
     },
     "execution_count": 30,
     "metadata": {},
     "output_type": "execute_result"
    }
   ],
   "source": [
    "#unique source\n",
    "uni_source = list(df_train_final.Source.unique())\n",
    "len(uni_source)"
   ]
  },
  {
   "cell_type": "code",
   "execution_count": 31,
   "metadata": {},
   "outputs": [
    {
     "data": {
      "text/plain": [
       "6184"
      ]
     },
     "execution_count": 31,
     "metadata": {},
     "output_type": "execute_result"
    }
   ],
   "source": [
    "#unique target\n",
    "uni_target = list(df_train_final.Target.unique())\n",
    "len(uni_target)"
   ]
  },
  {
   "cell_type": "code",
   "execution_count": 32,
   "metadata": {},
   "outputs": [],
   "source": [
    "G_all = nx.from_pandas_edgelist(df_train_final,'Source', 'Target',[\"Weight\"])"
   ]
  },
  {
   "cell_type": "code",
   "execution_count": 33,
   "metadata": {},
   "outputs": [
    {
     "name": "stdout",
     "output_type": "stream",
     "text": [
      "Name: \n",
      "Type: Graph\n",
      "Number of nodes: 6192\n",
      "Number of edges: 364435\n",
      "Average degree: 117.7116\n"
     ]
    }
   ],
   "source": [
    "#print(nx.info(G_all))"
   ]
  },
  {
   "cell_type": "code",
   "execution_count": 34,
   "metadata": {},
   "outputs": [],
   "source": [
    "#G_all.edges()"
   ]
  },
  {
   "cell_type": "code",
   "execution_count": 35,
   "metadata": {},
   "outputs": [
    {
     "data": {
      "text/plain": [
       "6192"
      ]
     },
     "execution_count": 35,
     "metadata": {},
     "output_type": "execute_result"
    }
   ],
   "source": [
    "len(G_all.nodes())"
   ]
  },
  {
   "cell_type": "code",
   "execution_count": 36,
   "metadata": {},
   "outputs": [],
   "source": [
    "#G_all.nodes(data=True)"
   ]
  },
  {
   "cell_type": "code",
   "execution_count": 37,
   "metadata": {},
   "outputs": [],
   "source": [
    "#G_all.edges(data = True)"
   ]
  },
  {
   "cell_type": "code",
   "execution_count": 38,
   "metadata": {},
   "outputs": [
    {
     "data": {
      "text/plain": [
       "3696"
      ]
     },
     "execution_count": 38,
     "metadata": {},
     "output_type": "execute_result"
    }
   ],
   "source": [
    "all_node_list = [f for f, to, edata in G_all.edges(data = True)]\n",
    "all_node_list_unique = list(set(all_node_list))\n",
    "len(all_node_list_unique)"
   ]
  },
  {
   "cell_type": "code",
   "execution_count": 39,
   "metadata": {},
   "outputs": [
    {
     "name": "stdout",
     "output_type": "stream",
     "text": [
      "[('garlic', 'parsley', {'Weight': 150}), ('eggs', 'scallions', {'Weight': 150}), ('onions', 'fresh lemon juice', {'Weight': 150}), ('sugar', 'cinnamon sticks', {'Weight': 150}), ('olive oil', 'ground beef', {'Weight': 150}), ('chopped cilantro fresh', 'black beans', {'Weight': 150}), ('all-purpose flour', 'shortening', {'Weight': 150}), ('sesame seeds', 'rice vinegar', {'Weight': 150})]\n"
     ]
    }
   ],
   "source": [
    "selected_edges = [(u,v,e) for u,v,e in G_all.edges(data=True) if e['Weight'] == 150]\n",
    "#print(selected_edges)"
   ]
  },
  {
   "cell_type": "code",
   "execution_count": 40,
   "metadata": {},
   "outputs": [],
   "source": [
    "def island_fun(G, weight):\n",
    "    '''\n",
    "    Returns a subgraph from a big graph based on the\n",
    "    selected weight.\n",
    "    '''\n",
    "    G1 = nx.Graph()\n",
    "    for f, to, edata in G.edges(data=True):\n",
    "         if edata['Weight'] == weight:\n",
    "                G1.add_edge(f,to, weight = edata['Weight'])\n",
    "    return G1"
   ]
  },
  {
   "cell_type": "code",
   "execution_count": 41,
   "metadata": {},
   "outputs": [
    {
     "data": {
      "text/plain": [
       "EdgeDataView([('garlic', 'parsley', {'weight': 150}), ('eggs', 'scallions', {'weight': 150}), ('onions', 'fresh lemon juice', {'weight': 150}), ('sugar', 'cinnamon sticks', {'weight': 150}), ('olive oil', 'ground beef', {'weight': 150}), ('chopped cilantro fresh', 'black beans', {'weight': 150}), ('all-purpose flour', 'shortening', {'weight': 150}), ('sesame seeds', 'rice vinegar', {'weight': 150})])"
      ]
     },
     "execution_count": 41,
     "metadata": {},
     "output_type": "execute_result"
    }
   ],
   "source": [
    "island_fun(G_all, 150).edges(data = True)"
   ]
  },
  {
   "cell_type": "code",
   "execution_count": 42,
   "metadata": {},
   "outputs": [],
   "source": [
    "# sub_graph100 = island_fun(G_all, 100)\n",
    "# node_list = [f for f, to, edata in sub_graph100.edges(data = True)]\n",
    "# node_list_unique = list(set(node_list))\n",
    "# node_list_unique"
   ]
  },
  {
   "cell_type": "code",
   "execution_count": 43,
   "metadata": {},
   "outputs": [],
   "source": [
    "# node_size = [sub_graph100.degree(sub)*100 for sub in node_list_unique]\n",
    "#node_size"
   ]
  },
  {
   "cell_type": "code",
   "execution_count": 44,
   "metadata": {},
   "outputs": [],
   "source": [
    "# plt.figure(figsize=(12, 12))\n",
    "\n",
    "# layout = nx.spring_layout(sub_graph100,iterations=50)\n",
    "\n",
    "# nx.draw_networkx_nodes(sub_graph100, \n",
    "#                        layout, \n",
    "#                        nodelist=node_list_unique, \n",
    "#                        node_size=node_size, # a LIST of sizes, based on g.degree\n",
    "#                        node_color='purple');\n",
    "# # "
   ]
  },
  {
   "cell_type": "code",
   "execution_count": 45,
   "metadata": {},
   "outputs": [],
   "source": [
    "#G_plot = island_fun(G_all, 100)\n",
    "#figure(figsize=(10, 8))\n",
    "#nx.draw_shell(G_plot, with_labels=True)"
   ]
  },
  {
   "cell_type": "code",
   "execution_count": 46,
   "metadata": {},
   "outputs": [
    {
     "data": {
      "text/plain": [
       "3217"
      ]
     },
     "execution_count": 46,
     "metadata": {},
     "output_type": "execute_result"
    }
   ],
   "source": [
    "len(G_all['garlic'])"
   ]
  },
  {
   "cell_type": "code",
   "execution_count": 47,
   "metadata": {},
   "outputs": [],
   "source": [
    "#list(G_all.nodes())"
   ]
  },
  {
   "cell_type": "code",
   "execution_count": 48,
   "metadata": {},
   "outputs": [],
   "source": [
    "#G_all['garlic'].keys()#"
   ]
  },
  {
   "cell_type": "code",
   "execution_count": 49,
   "metadata": {},
   "outputs": [],
   "source": [
    "node_set = set(G_all.nodes())"
   ]
  },
  {
   "cell_type": "code",
   "execution_count": 50,
   "metadata": {},
   "outputs": [
    {
     "name": "stdout",
     "output_type": "stream",
     "text": [
      "Wall time: 0 ns\n"
     ]
    },
    {
     "data": {
      "text/plain": [
       "False"
      ]
     },
     "execution_count": 50,
     "metadata": {},
     "output_type": "execute_result"
    }
   ],
   "source": [
    "#%%time\n",
    "#'shoes' in node_set "
   ]
  },
  {
   "cell_type": "code",
   "execution_count": 51,
   "metadata": {},
   "outputs": [
    {
     "name": "stdout",
     "output_type": "stream",
     "text": [
      "Wall time: 0 ns\n"
     ]
    },
    {
     "data": {
      "text/plain": [
       "True"
      ]
     },
     "execution_count": 51,
     "metadata": {},
     "output_type": "execute_result"
    }
   ],
   "source": [
    "#%%time\n",
    "#'garlic' in G_all.nodes()"
   ]
  },
  {
   "cell_type": "code",
   "execution_count": 52,
   "metadata": {},
   "outputs": [],
   "source": [
    "#G_all.nodes()"
   ]
  },
  {
   "cell_type": "code",
   "execution_count": 56,
   "metadata": {},
   "outputs": [],
   "source": [
    "list_items = [itm for itm in G_all['garlic'].items()]"
   ]
  },
  {
   "cell_type": "code",
   "execution_count": 57,
   "metadata": {},
   "outputs": [
    {
     "data": {
      "text/plain": [
       "<dict_keyiterator at 0x1fe97b9df40>"
      ]
     },
     "execution_count": 57,
     "metadata": {},
     "output_type": "execute_result"
    }
   ],
   "source": [
    "G_all.neighbors('garlic')"
   ]
  },
  {
   "cell_type": "code",
   "execution_count": 58,
   "metadata": {},
   "outputs": [],
   "source": [
    "def extract_neigh(G_in, item_search):\n",
    "    '''\n",
    "    Returns list of 5 nearest neighbor items \n",
    "    sorted with highest value weight for a given search item.\n",
    "    '''\n",
    "    list_nodes = [itm for itm, edata in G_in[item_search].items()]\n",
    "    list_wt = [edata['Weight'] for itm, edata in G_in[item_search].items()]\n",
    "    data = {'Target_name': list_nodes, 'Weight': list_wt}\n",
    "    df_out = pd.DataFrame(data)    \n",
    "    df_out = df_out.sort_values('Weight', ascending = False).reset_index(drop=True)\n",
    "    nei_list = df_out.Target_name[0:5]    \n",
    "    return list(nei_list)"
   ]
  },
  {
   "cell_type": "code",
   "execution_count": 59,
   "metadata": {},
   "outputs": [
    {
     "name": "stdout",
     "output_type": "stream",
     "text": [
      "Wall time: 4.99 ms\n"
     ]
    },
    {
     "data": {
      "text/plain": [
       "['onions', 'garlic', 'sugar', 'ginger', 'tomatoes']"
      ]
     },
     "execution_count": 59,
     "metadata": {},
     "output_type": "execute_result"
    }
   ],
   "source": [
    "#%%time\n",
    "#extract_neigh(G_all, 'oil')"
   ]
  },
  {
   "cell_type": "code",
   "execution_count": 60,
   "metadata": {},
   "outputs": [
    {
     "data": {
      "text/plain": [
       "3217"
      ]
     },
     "execution_count": 60,
     "metadata": {},
     "output_type": "execute_result"
    }
   ],
   "source": [
    "G_all.degree['garlic']"
   ]
  }
 ],
 "metadata": {
  "kernelspec": {
   "display_name": "Python 3",
   "language": "python",
   "name": "python3"
  },
  "language_info": {
   "codemirror_mode": {
    "name": "ipython",
    "version": 3
   },
   "file_extension": ".py",
   "mimetype": "text/x-python",
   "name": "python",
   "nbconvert_exporter": "python",
   "pygments_lexer": "ipython3",
   "version": "3.8.5"
  }
 },
 "nbformat": 4,
 "nbformat_minor": 4
}
